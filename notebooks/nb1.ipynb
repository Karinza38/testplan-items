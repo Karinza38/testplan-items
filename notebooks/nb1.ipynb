{
 "cells": [
  {
   "cell_type": "code",
   "execution_count": 2,
   "metadata": {},
   "outputs": [
    {
     "name": "stdout",
     "output_type": "stream",
     "text": [
      "[[ 70   8 100  98]\n",
      " [ 80  26  28  65]\n",
      " [ 94  16  31  71]\n",
      " [ 75  11  26  60]]\n",
      "    A   B    C   D\n",
      "0  70   8  100  98\n",
      "1  80  26   28  65\n",
      "2  94  16   31  71\n",
      "3  75  11   26  60\n"
     ]
    }
   ],
   "source": [
    "import numpy as np\n",
    "import pandas as pd\n",
    "\n",
    "# Generate a 4x4 table of random integers between 0 and 100\n",
    "random_table = np.random.randint(0, 101, size=(4, 4))\n",
    "print(random_table)\n",
    "\n",
    "# Assign the table to a DataFrame\n",
    "df = pd.DataFrame(random_table, columns=['A', 'B', 'C', 'D'])\n",
    "print(df)"
   ]
  },
  {
   "cell_type": "code",
   "execution_count": 4,
   "metadata": {},
   "outputs": [
    {
     "name": "stdout",
     "output_type": "stream",
     "text": [
      "[['wind' 'tree' 'book' 'bear' 'star' 'ball']\n",
      " ['fire' 'rock' 'rain' 'rock' 'sand' 'fish']\n",
      " ['rock' 'moon' 'fire' 'moon' 'fish' 'frog']\n",
      " ['bear' 'star' 'star' 'tree' 'fish' 'door']\n",
      " ['star' 'tree' 'fire' 'rain' 'leaf' 'star']\n",
      " ['bear' 'moon' 'fire' 'rain' 'frog' 'book']]\n",
      "      A     B     C     D     E     F\n",
      "0  wind  tree  book  bear  star  ball\n",
      "1  fire  rock  rain  rock  sand  fish\n",
      "2  rock  moon  fire  moon  fish  frog\n",
      "3  bear  star  star  tree  fish  door\n",
      "4  star  tree  fire  rain  leaf  star\n",
      "5  bear  moon  fire  rain  frog  book\n"
     ]
    }
   ],
   "source": [
    "import random\n",
    "\n",
    "# List of four-letter words\n",
    "four_letter_words = [\"tree\", \"book\", \"fish\", \"lamp\", \"door\", \"cake\", \"milk\", \"ball\", \"star\", \"moon\", \"wind\", \"fire\", \"snow\", \"rain\", \"sand\", \"rock\", \"leaf\", \"frog\", \"wolf\", \"bear\"]\n",
    "\n",
    "# Generate a 6x6 table with random four-letter words\n",
    "random_word_table = np.array([[random.choice(four_letter_words) for _ in range(6)] for _ in range(6)])\n",
    "print(random_word_table)\n",
    "\n",
    "df_words = pd.DataFrame(random_word_table, columns=['A', 'B', 'C', 'D', 'E', 'F'])\n",
    "print(df_words)"
   ]
  },
  {
   "cell_type": "code",
   "execution_count": null,
   "metadata": {},
   "outputs": [],
   "source": [
    "df.to_csv('output.csv', index=False)\n",
    "df_words.to_csv('output_words.csv', index=False)"
   ]
  }
 ],
 "metadata": {
  "kernelspec": {
   "display_name": "Python 3",
   "language": "python",
   "name": "python3"
  },
  "language_info": {
   "codemirror_mode": {
    "name": "ipython",
    "version": 3
   },
   "file_extension": ".py",
   "mimetype": "text/x-python",
   "name": "python",
   "nbconvert_exporter": "python",
   "pygments_lexer": "ipython3",
   "version": "3.10.11"
  }
 },
 "nbformat": 4,
 "nbformat_minor": 2
}
