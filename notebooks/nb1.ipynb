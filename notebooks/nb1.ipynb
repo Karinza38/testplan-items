{
 "cells": [
  {
   "cell_type": "code",
   "execution_count": 4,
   "metadata": {},
   "outputs": [
    {
     "name": "stdout",
     "output_type": "stream",
     "text": [
      "[[98 91 53 19]\n",
      " [54  0 15 87]\n",
      " [ 1 83 77 41]\n",
      " [84 87 64 24]]\n",
      "    A   B   C   D\n",
      "0  98  91  53  19\n",
      "1  54   0  15  87\n",
      "2   1  83  77  41\n",
      "3  84  87  64  24\n"
     ]
    }
   ],
   "source": [
    "import numpy as np\n",
    "import pandas as pd\n",
    "\n",
    "# Generate a 4x4 table of random integers between 0 and 100\n",
    "random_table = np.random.randint(0, 101, size=(4, 4))\n",
    "print(random_table)\n",
    "\n",
    "# Assign the table to a DataFrame\n",
    "df = pd.DataFrame(random_table, columns=['A', 'B', 'C', 'D'])\n",
    "print(df)"
   ]
  },
  {
   "cell_type": "code",
   "execution_count": 5,
   "metadata": {},
   "outputs": [
    {
     "name": "stdout",
     "output_type": "stream",
     "text": [
      "[['book' 'moon' 'snow' 'cake' 'door' 'fish']\n",
      " ['star' 'moon' 'door' 'book' 'frog' 'wolf']\n",
      " ['rock' 'milk' 'lamp' 'moon' 'star' 'fish']\n",
      " ['lamp' 'sand' 'book' 'cake' 'door' 'tree']\n",
      " ['bear' 'tree' 'moon' 'star' 'wind' 'door']\n",
      " ['wind' 'moon' 'leaf' 'bear' 'snow' 'tree']]\n",
      "      A     B     C     D     E     F\n",
      "0  book  moon  snow  cake  door  fish\n",
      "1  star  moon  door  book  frog  wolf\n",
      "2  rock  milk  lamp  moon  star  fish\n",
      "3  lamp  sand  book  cake  door  tree\n",
      "4  bear  tree  moon  star  wind  door\n",
      "5  wind  moon  leaf  bear  snow  tree\n"
     ]
    }
   ],
   "source": [
    "import random\n",
    "\n",
    "# List of four-letter words\n",
    "four_letter_words = [\"tree\", \"book\", \"fish\", \"lamp\", \"door\", \"cake\", \"milk\", \"ball\", \"star\", \"moon\", \"wind\", \"fire\", \"snow\", \"rain\", \"sand\", \"rock\", \"leaf\", \"frog\", \"wolf\", \"bear\"]\n",
    "\n",
    "# Generate a 6x6 table with random four-letter words\n",
    "random_word_table = np.array([[random.choice(four_letter_words) for _ in range(6)] for _ in range(6)])\n",
    "print(random_word_table)\n",
    "\n",
    "df_words = pd.DataFrame(random_word_table, columns=['A', 'B', 'C', 'D', 'E', 'F'])\n",
    "print(df_words)"
   ]
  },
  {
   "cell_type": "code",
   "execution_count": null,
   "metadata": {},
   "outputs": [],
   "source": [
    "df.to_csv('output.csv', index=False)\n",
    "df_words.to_csv('output_words.csv', index=False)"
   ]
  }
 ],
 "metadata": {
  "kernelspec": {
   "display_name": "Python 3",
   "language": "python",
   "name": "python3"
  },
  "language_info": {
   "codemirror_mode": {
    "name": "ipython",
    "version": 3
   },
   "file_extension": ".py",
   "mimetype": "text/x-python",
   "name": "python",
   "nbconvert_exporter": "python",
   "pygments_lexer": "ipython3",
   "version": "3.10.11"
  }
 },
 "nbformat": 4,
 "nbformat_minor": 2
}
